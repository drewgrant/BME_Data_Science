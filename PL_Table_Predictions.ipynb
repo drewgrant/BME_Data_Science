{
  "nbformat": 4,
  "nbformat_minor": 0,
  "metadata": {
    "colab": {
      "name": "Project",
      "provenance": [],
      "collapsed_sections": []
    },
    "kernelspec": {
      "name": "python3",
      "display_name": "Python 3"
    }
  },
  "cells": [
    {
      "cell_type": "markdown",
      "metadata": {
        "id": "mNSFENI9KzNL",
        "colab_type": "text"
      },
      "source": [
        "**Drew Grant**\n",
        "\n",
        "In this script I use English Premier League Data to predict the season table with a neural network model.  "
      ]
    },
    {
      "cell_type": "code",
      "metadata": {
        "id": "HuhcUvfQpoWR",
        "colab_type": "code",
        "colab": {}
      },
      "source": [
        "import numpy as np\n",
        "from scipy import stats as st\n",
        "import pandas as pd\n",
        "import seaborn as sns\n",
        "import matplotlib.pyplot as plt\n",
        "import sklearn.linear_model as lm\n",
        "import sklearn as skl\n",
        "import statsmodels.formula.api as smf\n",
        "import statsmodels as sm\n",
        "## this sets some style parameters\n",
        "sns.set()"
      ],
      "execution_count": 0,
      "outputs": []
    },
    {
      "cell_type": "markdown",
      "metadata": {
        "id": "1IfnQ8zZovMq",
        "colab_type": "text"
      },
      "source": [
        "# Data\n",
        "## 1. load the data using pandas into a dataframe\n"
      ]
    },
    {
      "cell_type": "code",
      "metadata": {
        "id": "tmfCBp9WAiHU",
        "colab_type": "code",
        "outputId": "4bc4141b-7fec-4f2d-e56a-1eb233591c3e",
        "colab": {
          "base_uri": "https://localhost:8080/",
          "height": 278
        }
      },
      "source": [
        "epl_14_15 = pd.read_csv('https://raw.githubusercontent.com/drewgrant/BME_Data_Science/master/season-1415_csv.csv')\n",
        "epl_15_16 = pd.read_csv('https://raw.githubusercontent.com/drewgrant/BME_Data_Science/master/season-1516_csv.csv')\n",
        "epl_16_17 = pd.read_csv('https://raw.githubusercontent.com/drewgrant/BME_Data_Science/master/season-1617_csv.csv')\n",
        "epl_17_18 = pd.read_csv('https://raw.githubusercontent.com/drewgrant/BME_Data_Science/master/season-1718_csv.csv')\n",
        "epl_16_17.head()"
      ],
      "execution_count": 0,
      "outputs": [
        {
          "output_type": "execute_result",
          "data": {
            "text/html": [
              "<div>\n",
              "<style scoped>\n",
              "    .dataframe tbody tr th:only-of-type {\n",
              "        vertical-align: middle;\n",
              "    }\n",
              "\n",
              "    .dataframe tbody tr th {\n",
              "        vertical-align: top;\n",
              "    }\n",
              "\n",
              "    .dataframe thead th {\n",
              "        text-align: right;\n",
              "    }\n",
              "</style>\n",
              "<table border=\"1\" class=\"dataframe\">\n",
              "  <thead>\n",
              "    <tr style=\"text-align: right;\">\n",
              "      <th></th>\n",
              "      <th>Div</th>\n",
              "      <th>Date</th>\n",
              "      <th>HomeTeam</th>\n",
              "      <th>AwayTeam</th>\n",
              "      <th>FTHG</th>\n",
              "      <th>FTAG</th>\n",
              "      <th>FTR</th>\n",
              "      <th>HTHG</th>\n",
              "      <th>HTAG</th>\n",
              "      <th>HTR</th>\n",
              "      <th>Referee</th>\n",
              "      <th>HS</th>\n",
              "      <th>AS</th>\n",
              "      <th>HST</th>\n",
              "      <th>AST</th>\n",
              "      <th>HF</th>\n",
              "      <th>AF</th>\n",
              "      <th>HC</th>\n",
              "      <th>AC</th>\n",
              "      <th>HY</th>\n",
              "      <th>AY</th>\n",
              "      <th>HR</th>\n",
              "      <th>AR</th>\n",
              "      <th>B365H</th>\n",
              "      <th>B365D</th>\n",
              "      <th>B365A</th>\n",
              "      <th>BWH</th>\n",
              "      <th>BWD</th>\n",
              "      <th>BWA</th>\n",
              "      <th>IWH</th>\n",
              "      <th>IWD</th>\n",
              "      <th>IWA</th>\n",
              "      <th>LBH</th>\n",
              "      <th>LBD</th>\n",
              "      <th>LBA</th>\n",
              "      <th>PSH</th>\n",
              "      <th>PSD</th>\n",
              "      <th>PSA</th>\n",
              "      <th>WHH</th>\n",
              "      <th>WHD</th>\n",
              "      <th>WHA</th>\n",
              "      <th>VCH</th>\n",
              "      <th>VCD</th>\n",
              "      <th>VCA</th>\n",
              "      <th>Bb1X2</th>\n",
              "      <th>BbMxH</th>\n",
              "      <th>BbAvH</th>\n",
              "      <th>BbMxD</th>\n",
              "      <th>BbAvD</th>\n",
              "      <th>BbMxA</th>\n",
              "      <th>BbAvA</th>\n",
              "      <th>BbOU</th>\n",
              "      <th>BbMx&gt;2.5</th>\n",
              "      <th>BbAv&gt;2.5</th>\n",
              "      <th>BbMx&lt;2.5</th>\n",
              "      <th>BbAv&lt;2.5</th>\n",
              "      <th>BbAH</th>\n",
              "      <th>BbAHh</th>\n",
              "      <th>BbMxAHH</th>\n",
              "      <th>BbAvAHH</th>\n",
              "      <th>BbMxAHA</th>\n",
              "      <th>BbAvAHA</th>\n",
              "      <th>PSCH</th>\n",
              "      <th>PSCD</th>\n",
              "      <th>PSCA</th>\n",
              "    </tr>\n",
              "  </thead>\n",
              "  <tbody>\n",
              "    <tr>\n",
              "      <th>0</th>\n",
              "      <td>E0</td>\n",
              "      <td>13/08/16</td>\n",
              "      <td>Burnley</td>\n",
              "      <td>Swansea</td>\n",
              "      <td>0</td>\n",
              "      <td>1</td>\n",
              "      <td>A</td>\n",
              "      <td>0</td>\n",
              "      <td>0</td>\n",
              "      <td>D</td>\n",
              "      <td>J Moss</td>\n",
              "      <td>10</td>\n",
              "      <td>17</td>\n",
              "      <td>3</td>\n",
              "      <td>9</td>\n",
              "      <td>10</td>\n",
              "      <td>14</td>\n",
              "      <td>7</td>\n",
              "      <td>4</td>\n",
              "      <td>3</td>\n",
              "      <td>2</td>\n",
              "      <td>0</td>\n",
              "      <td>0</td>\n",
              "      <td>2.40</td>\n",
              "      <td>3.3</td>\n",
              "      <td>3.25</td>\n",
              "      <td>2.45</td>\n",
              "      <td>3.1</td>\n",
              "      <td>2.95</td>\n",
              "      <td>2.50</td>\n",
              "      <td>3.3</td>\n",
              "      <td>2.65</td>\n",
              "      <td>2.45</td>\n",
              "      <td>3.25</td>\n",
              "      <td>3.10</td>\n",
              "      <td>2.47</td>\n",
              "      <td>3.32</td>\n",
              "      <td>3.19</td>\n",
              "      <td>2.50</td>\n",
              "      <td>3.20</td>\n",
              "      <td>2.90</td>\n",
              "      <td>2.50</td>\n",
              "      <td>3.2</td>\n",
              "      <td>3.25</td>\n",
              "      <td>55</td>\n",
              "      <td>2.55</td>\n",
              "      <td>2.43</td>\n",
              "      <td>3.35</td>\n",
              "      <td>3.21</td>\n",
              "      <td>3.30</td>\n",
              "      <td>3.10</td>\n",
              "      <td>40</td>\n",
              "      <td>2.40</td>\n",
              "      <td>2.30</td>\n",
              "      <td>1.68</td>\n",
              "      <td>1.61</td>\n",
              "      <td>32</td>\n",
              "      <td>-0.25</td>\n",
              "      <td>2.13</td>\n",
              "      <td>2.06</td>\n",
              "      <td>1.86</td>\n",
              "      <td>1.81</td>\n",
              "      <td>2.79</td>\n",
              "      <td>3.16</td>\n",
              "      <td>2.89</td>\n",
              "    </tr>\n",
              "    <tr>\n",
              "      <th>1</th>\n",
              "      <td>E0</td>\n",
              "      <td>13/08/16</td>\n",
              "      <td>Crystal Palace</td>\n",
              "      <td>West Brom</td>\n",
              "      <td>0</td>\n",
              "      <td>1</td>\n",
              "      <td>A</td>\n",
              "      <td>0</td>\n",
              "      <td>0</td>\n",
              "      <td>D</td>\n",
              "      <td>C Pawson</td>\n",
              "      <td>14</td>\n",
              "      <td>13</td>\n",
              "      <td>4</td>\n",
              "      <td>3</td>\n",
              "      <td>12</td>\n",
              "      <td>15</td>\n",
              "      <td>3</td>\n",
              "      <td>6</td>\n",
              "      <td>2</td>\n",
              "      <td>2</td>\n",
              "      <td>0</td>\n",
              "      <td>0</td>\n",
              "      <td>2.00</td>\n",
              "      <td>3.3</td>\n",
              "      <td>4.50</td>\n",
              "      <td>2.00</td>\n",
              "      <td>3.2</td>\n",
              "      <td>3.90</td>\n",
              "      <td>2.10</td>\n",
              "      <td>3.3</td>\n",
              "      <td>3.30</td>\n",
              "      <td>2.00</td>\n",
              "      <td>3.25</td>\n",
              "      <td>4.33</td>\n",
              "      <td>2.06</td>\n",
              "      <td>3.29</td>\n",
              "      <td>4.32</td>\n",
              "      <td>2.05</td>\n",
              "      <td>3.10</td>\n",
              "      <td>4.00</td>\n",
              "      <td>2.00</td>\n",
              "      <td>3.3</td>\n",
              "      <td>4.40</td>\n",
              "      <td>56</td>\n",
              "      <td>2.10</td>\n",
              "      <td>2.01</td>\n",
              "      <td>3.40</td>\n",
              "      <td>3.23</td>\n",
              "      <td>4.50</td>\n",
              "      <td>4.16</td>\n",
              "      <td>38</td>\n",
              "      <td>2.68</td>\n",
              "      <td>2.50</td>\n",
              "      <td>1.60</td>\n",
              "      <td>1.52</td>\n",
              "      <td>33</td>\n",
              "      <td>-0.50</td>\n",
              "      <td>2.07</td>\n",
              "      <td>2.00</td>\n",
              "      <td>1.90</td>\n",
              "      <td>1.85</td>\n",
              "      <td>2.25</td>\n",
              "      <td>3.15</td>\n",
              "      <td>3.86</td>\n",
              "    </tr>\n",
              "    <tr>\n",
              "      <th>2</th>\n",
              "      <td>E0</td>\n",
              "      <td>13/08/16</td>\n",
              "      <td>Everton</td>\n",
              "      <td>Tottenham</td>\n",
              "      <td>1</td>\n",
              "      <td>1</td>\n",
              "      <td>D</td>\n",
              "      <td>1</td>\n",
              "      <td>0</td>\n",
              "      <td>H</td>\n",
              "      <td>M Atkinson</td>\n",
              "      <td>12</td>\n",
              "      <td>13</td>\n",
              "      <td>6</td>\n",
              "      <td>4</td>\n",
              "      <td>10</td>\n",
              "      <td>14</td>\n",
              "      <td>5</td>\n",
              "      <td>6</td>\n",
              "      <td>0</td>\n",
              "      <td>0</td>\n",
              "      <td>0</td>\n",
              "      <td>0</td>\n",
              "      <td>3.20</td>\n",
              "      <td>3.4</td>\n",
              "      <td>2.40</td>\n",
              "      <td>2.95</td>\n",
              "      <td>3.2</td>\n",
              "      <td>2.40</td>\n",
              "      <td>2.65</td>\n",
              "      <td>3.3</td>\n",
              "      <td>2.50</td>\n",
              "      <td>3.10</td>\n",
              "      <td>3.40</td>\n",
              "      <td>2.40</td>\n",
              "      <td>3.25</td>\n",
              "      <td>3.43</td>\n",
              "      <td>2.37</td>\n",
              "      <td>3.10</td>\n",
              "      <td>3.10</td>\n",
              "      <td>2.40</td>\n",
              "      <td>3.25</td>\n",
              "      <td>3.4</td>\n",
              "      <td>2.38</td>\n",
              "      <td>55</td>\n",
              "      <td>3.30</td>\n",
              "      <td>3.12</td>\n",
              "      <td>3.45</td>\n",
              "      <td>3.32</td>\n",
              "      <td>2.50</td>\n",
              "      <td>2.36</td>\n",
              "      <td>41</td>\n",
              "      <td>2.12</td>\n",
              "      <td>2.05</td>\n",
              "      <td>1.87</td>\n",
              "      <td>1.77</td>\n",
              "      <td>32</td>\n",
              "      <td>0.25</td>\n",
              "      <td>1.91</td>\n",
              "      <td>1.85</td>\n",
              "      <td>2.09</td>\n",
              "      <td>2.00</td>\n",
              "      <td>3.64</td>\n",
              "      <td>3.54</td>\n",
              "      <td>2.16</td>\n",
              "    </tr>\n",
              "    <tr>\n",
              "      <th>3</th>\n",
              "      <td>E0</td>\n",
              "      <td>13/08/16</td>\n",
              "      <td>Hull</td>\n",
              "      <td>Leicester</td>\n",
              "      <td>2</td>\n",
              "      <td>1</td>\n",
              "      <td>H</td>\n",
              "      <td>1</td>\n",
              "      <td>0</td>\n",
              "      <td>H</td>\n",
              "      <td>M Dean</td>\n",
              "      <td>14</td>\n",
              "      <td>18</td>\n",
              "      <td>5</td>\n",
              "      <td>5</td>\n",
              "      <td>8</td>\n",
              "      <td>17</td>\n",
              "      <td>5</td>\n",
              "      <td>3</td>\n",
              "      <td>2</td>\n",
              "      <td>2</td>\n",
              "      <td>0</td>\n",
              "      <td>0</td>\n",
              "      <td>4.50</td>\n",
              "      <td>3.6</td>\n",
              "      <td>1.91</td>\n",
              "      <td>4.33</td>\n",
              "      <td>3.4</td>\n",
              "      <td>1.90</td>\n",
              "      <td>3.30</td>\n",
              "      <td>3.3</td>\n",
              "      <td>2.10</td>\n",
              "      <td>4.50</td>\n",
              "      <td>3.50</td>\n",
              "      <td>1.91</td>\n",
              "      <td>4.43</td>\n",
              "      <td>3.55</td>\n",
              "      <td>1.95</td>\n",
              "      <td>4.20</td>\n",
              "      <td>3.25</td>\n",
              "      <td>1.95</td>\n",
              "      <td>4.40</td>\n",
              "      <td>3.5</td>\n",
              "      <td>1.95</td>\n",
              "      <td>55</td>\n",
              "      <td>4.50</td>\n",
              "      <td>4.17</td>\n",
              "      <td>3.60</td>\n",
              "      <td>3.43</td>\n",
              "      <td>2.33</td>\n",
              "      <td>1.95</td>\n",
              "      <td>40</td>\n",
              "      <td>2.30</td>\n",
              "      <td>2.19</td>\n",
              "      <td>1.74</td>\n",
              "      <td>1.67</td>\n",
              "      <td>31</td>\n",
              "      <td>0.25</td>\n",
              "      <td>2.35</td>\n",
              "      <td>2.26</td>\n",
              "      <td>2.03</td>\n",
              "      <td>1.67</td>\n",
              "      <td>4.68</td>\n",
              "      <td>3.50</td>\n",
              "      <td>1.92</td>\n",
              "    </tr>\n",
              "    <tr>\n",
              "      <th>4</th>\n",
              "      <td>E0</td>\n",
              "      <td>13/08/16</td>\n",
              "      <td>Man City</td>\n",
              "      <td>Sunderland</td>\n",
              "      <td>2</td>\n",
              "      <td>1</td>\n",
              "      <td>H</td>\n",
              "      <td>1</td>\n",
              "      <td>0</td>\n",
              "      <td>H</td>\n",
              "      <td>R Madley</td>\n",
              "      <td>16</td>\n",
              "      <td>7</td>\n",
              "      <td>4</td>\n",
              "      <td>3</td>\n",
              "      <td>11</td>\n",
              "      <td>14</td>\n",
              "      <td>9</td>\n",
              "      <td>6</td>\n",
              "      <td>1</td>\n",
              "      <td>2</td>\n",
              "      <td>0</td>\n",
              "      <td>0</td>\n",
              "      <td>1.25</td>\n",
              "      <td>6.5</td>\n",
              "      <td>15.00</td>\n",
              "      <td>1.22</td>\n",
              "      <td>6.0</td>\n",
              "      <td>11.50</td>\n",
              "      <td>1.25</td>\n",
              "      <td>5.5</td>\n",
              "      <td>10.30</td>\n",
              "      <td>1.25</td>\n",
              "      <td>6.50</td>\n",
              "      <td>13.00</td>\n",
              "      <td>1.27</td>\n",
              "      <td>6.48</td>\n",
              "      <td>13.15</td>\n",
              "      <td>1.25</td>\n",
              "      <td>5.50</td>\n",
              "      <td>13.00</td>\n",
              "      <td>1.25</td>\n",
              "      <td>6.5</td>\n",
              "      <td>15.00</td>\n",
              "      <td>56</td>\n",
              "      <td>1.30</td>\n",
              "      <td>1.25</td>\n",
              "      <td>6.80</td>\n",
              "      <td>6.11</td>\n",
              "      <td>15.00</td>\n",
              "      <td>12.55</td>\n",
              "      <td>39</td>\n",
              "      <td>1.56</td>\n",
              "      <td>1.53</td>\n",
              "      <td>2.67</td>\n",
              "      <td>2.48</td>\n",
              "      <td>34</td>\n",
              "      <td>-1.50</td>\n",
              "      <td>1.81</td>\n",
              "      <td>1.73</td>\n",
              "      <td>2.20</td>\n",
              "      <td>2.14</td>\n",
              "      <td>1.25</td>\n",
              "      <td>6.50</td>\n",
              "      <td>14.50</td>\n",
              "    </tr>\n",
              "  </tbody>\n",
              "</table>\n",
              "</div>"
            ],
            "text/plain": [
              "  Div      Date        HomeTeam    AwayTeam  ...  BbAvAHA  PSCH  PSCD   PSCA\n",
              "0  E0  13/08/16         Burnley     Swansea  ...     1.81  2.79  3.16   2.89\n",
              "1  E0  13/08/16  Crystal Palace   West Brom  ...     1.85  2.25  3.15   3.86\n",
              "2  E0  13/08/16         Everton   Tottenham  ...     2.00  3.64  3.54   2.16\n",
              "3  E0  13/08/16            Hull   Leicester  ...     1.67  4.68  3.50   1.92\n",
              "4  E0  13/08/16        Man City  Sunderland  ...     2.14  1.25  6.50  14.50\n",
              "\n",
              "[5 rows x 65 columns]"
            ]
          },
          "metadata": {
            "tags": []
          },
          "execution_count": 2
        }
      ]
    },
    {
      "cell_type": "code",
      "metadata": {
        "id": "GJizS5yAQ8DL",
        "colab_type": "code",
        "outputId": "ec23e3ab-0f9f-4a29-c520-9cd05b25f9e0",
        "colab": {
          "base_uri": "https://localhost:8080/",
          "height": 86
        }
      },
      "source": [
        "print('Number of data rows season 14-15 (games):', len(epl_14_15))\n",
        "print('Number of data rows  season 15-16 (games):', len(epl_15_16))\n",
        "print('Number of data rows  season 16-17 (games):', len(epl_16_17))\n",
        "print('Number of data rows  season 17-18 (games):', len(epl_17_18))"
      ],
      "execution_count": 0,
      "outputs": [
        {
          "output_type": "stream",
          "text": [
            "Number of data rows season 14-15 (games): 380\n",
            "Number of data rows  season 15-16 (games): 380\n",
            "Number of data rows  season 16-17 (games): 380\n",
            "Number of data rows  season 17-18 (games): 380\n"
          ],
          "name": "stdout"
        }
      ]
    },
    {
      "cell_type": "code",
      "metadata": {
        "id": "t00TJ7vGAjoI",
        "colab_type": "code",
        "outputId": "7d67b7b0-4e0e-4577-b1aa-c5c6a87ecc1a",
        "colab": {
          "base_uri": "https://localhost:8080/",
          "height": 363
        }
      },
      "source": [
        "teams_14_15 = epl_14_15.HomeTeam.unique()\n",
        "print('Number of Teams season 14-15:',len(teams_14_15))\n",
        "print(teams_14_15)\n",
        "\n",
        "teams_15_16 = epl_15_16.HomeTeam.unique()\n",
        "print('Number of Teams season 15-16:',len(teams_15_16))\n",
        "print(teams_15_16)\n",
        "\n",
        "teams_16_17 = epl_16_17.HomeTeam.unique()\n",
        "print('Number of Teams season 16-17:',len(teams_16_17))\n",
        "print(teams_16_17)\n",
        "\n",
        "teams_17_18 = epl_17_18.HomeTeam.unique()\n",
        "print('Number of Teams season 17-18:',len(teams_17_18))\n",
        "print(teams_17_18)"
      ],
      "execution_count": 0,
      "outputs": [
        {
          "output_type": "stream",
          "text": [
            "Number of Teams season 14-15: 20\n",
            "['Arsenal' 'Leicester' 'Man United' 'QPR' 'Stoke' 'West Brom' 'West Ham'\n",
            " 'Liverpool' 'Newcastle' 'Burnley' 'Aston Villa' 'Chelsea'\n",
            " 'Crystal Palace' 'Everton' 'Southampton' 'Swansea' 'Hull' 'Sunderland'\n",
            " 'Tottenham' 'Man City']\n",
            "Number of Teams season 15-16: 20\n",
            "['Bournemouth' 'Chelsea' 'Everton' 'Leicester' 'Man United' 'Norwich'\n",
            " 'Arsenal' 'Newcastle' 'Stoke' 'West Brom' 'Aston Villa' 'Southampton'\n",
            " 'Sunderland' 'Swansea' 'Tottenham' 'Watford' 'West Ham' 'Crystal Palace'\n",
            " 'Man City' 'Liverpool']\n",
            "Number of Teams season 16-17: 20\n",
            "['Burnley' 'Crystal Palace' 'Everton' 'Hull' 'Man City' 'Middlesbrough'\n",
            " 'Southampton' 'Arsenal' 'Bournemouth' 'Chelsea' 'Man United' 'Leicester'\n",
            " 'Stoke' 'Swansea' 'Tottenham' 'Watford' 'West Brom' 'Sunderland'\n",
            " 'West Ham' 'Liverpool']\n",
            "Number of Teams season 17-18: 20\n",
            "['Arsenal' 'Brighton' 'Chelsea' 'Crystal Palace' 'Everton' 'Southampton'\n",
            " 'Watford' 'West Brom' 'Man United' 'Newcastle' 'Bournemouth' 'Burnley'\n",
            " 'Leicester' 'Liverpool' 'Stoke' 'Swansea' 'Huddersfield' 'Tottenham'\n",
            " 'Man City' 'West Ham']\n"
          ],
          "name": "stdout"
        }
      ]
    },
    {
      "cell_type": "markdown",
      "metadata": {
        "id": "4Hvb_YW-oqWa",
        "colab_type": "text"
      },
      "source": [
        "## 2. Process, organize and format the data. This includes, handling missing data, reshaping data for analysis, dealing with dates or structured data formats etc"
      ]
    },
    {
      "cell_type": "markdown",
      "metadata": {
        "id": "hQz-lXA2q7WS",
        "colab_type": "text"
      },
      "source": [
        "Data Field Descriptions:\n",
        "* Div = League Division\n",
        "* Date = Match Date (dd/mm/yy)\n",
        "* HomeTeam = Home Team\n",
        "* AwayTeam = Away Team\n",
        "* FTHG = Full Time Home Team Goals\n",
        "* FTAG = Full Time Away Team Goals\n",
        "* FTR and Res = Full Time Result (H=Home Win, D=Draw, A=Away Win)\n",
        "* HTHG = Half Time Home Team Goals\n",
        "* HTAG = Half Time Away Team Goals\n",
        "* HTR = Half Time Result (H=Home Win, D=Draw, A=Away Win)\n",
        "\n",
        "* HS = Home Team Shots\n",
        "* AS = Away Team Shots\n",
        "* HST = Home Team Shots on Target\n",
        "* AST = Away Team Shots on Target\n",
        "* HC = Home Team Corners\n",
        "* AC = Away Team Corners\n",
        "* HF = Home Team Fouls Committed\n",
        "* AF = Away Team Fouls Committed\n",
        "* HY = Home Team Yellow Cards\n",
        "* AY = Away Team Yellow Cards\n",
        "* HR = Home Team Red Cards\n",
        "* AR = Away Team Red Cards"
      ]
    },
    {
      "cell_type": "markdown",
      "metadata": {
        "id": "1ibSTLgorvYk",
        "colab_type": "text"
      },
      "source": [
        "lets remove the home/away team distinction and make that a seperate column but have each team stats be split up\n"
      ]
    },
    {
      "cell_type": "code",
      "metadata": {
        "id": "X73wkY1yRmgh",
        "colab_type": "code",
        "outputId": "6088a5fe-189a-4206-9025-5a1cffb104fd",
        "colab": {
          "base_uri": "https://localhost:8080/",
          "height": 243
        }
      },
      "source": [
        "stats1 = epl_14_15[['HomeTeam','AwayTeam','FTR','FTHG','FTAG', 'HS', 'AS', 'HST', 'AST', 'HC', 'AC', 'HF', 'AF', 'HY', 'AY', 'HR', 'AR']]\n",
        "stats1 = stats1.rename(columns={'FTR': 'Result', 'FTHG': 'HomeGoals', 'FTAG': 'AwayGoals', 'HS': 'HomeShots', 'AS': 'AwayShots', 'HST': 'HomeShotsOnTarget', 'AST': 'AwayShotsOnTarget', 'HC':'HomeCorners', 'AC': 'AwayCorners', 'HF': 'HomeFouls', 'AF': 'AwayFouls', 'HC': 'HomeCorners', 'AC':'AwayCorners', 'HY': 'HomeYellowCards', 'AY': 'AwayYellowCards', 'HR': 'HomeRedCards', 'AR':'AwayRedCards'  })\n",
        "\n",
        "stats2 = epl_15_16[['HomeTeam','AwayTeam','FTR','FTHG','FTAG', 'HS', 'AS', 'HST', 'AST', 'HC', 'AC', 'HF', 'AF', 'HY', 'AY', 'HR', 'AR']]\n",
        "stats2 = stats2.rename(columns={'FTR': 'Result', 'FTHG': 'HomeGoals', 'FTAG': 'AwayGoals', 'HS': 'HomeShots', 'AS': 'AwayShots', 'HST': 'HomeShotsOnTarget', 'AST': 'AwayShotsOnTarget', 'HC':'HomeCorners', 'AC': 'AwayCorners', 'HF': 'HomeFouls', 'AF': 'AwayFouls', 'HC': 'HomeCorners', 'AC':'AwayCorners', 'HY': 'HomeYellowCards', 'AY': 'AwayYellowCards', 'HR': 'HomeRedCards', 'AR':'AwayRedCards'  })\n",
        "\n",
        "stats3 = epl_16_17[['HomeTeam','AwayTeam','FTR','FTHG','FTAG', 'HS', 'AS', 'HST', 'AST', 'HC', 'AC', 'HF', 'AF', 'HY', 'AY', 'HR', 'AR']]\n",
        "stats3 = stats3.rename(columns={'FTR': 'Result', 'FTHG': 'HomeGoals', 'FTAG': 'AwayGoals', 'HS': 'HomeShots', 'AS': 'AwayShots', 'HST': 'HomeShotsOnTarget', 'AST': 'AwayShotsOnTarget', 'HC':'HomeCorners', 'AC': 'AwayCorners', 'HF': 'HomeFouls', 'AF': 'AwayFouls', 'HC': 'HomeCorners', 'AC':'AwayCorners', 'HY': 'HomeYellowCards', 'AY': 'AwayYellowCards', 'HR': 'HomeRedCards', 'AR':'AwayRedCards'  })\n",
        "\n",
        "stats4 = epl_17_18[['HomeTeam','AwayTeam','FTR','FTHG','FTAG', 'HS', 'AS', 'HST', 'AST', 'HC', 'AC', 'HF', 'AF', 'HY', 'AY', 'HR', 'AR']]\n",
        "stats4 = stats4.rename(columns={'FTR': 'Result', 'FTHG': 'HomeGoals', 'FTAG': 'AwayGoals', 'HS': 'HomeShots', 'AS': 'AwayShots', 'HST': 'HomeShotsOnTarget', 'AST': 'AwayShotsOnTarget', 'HC':'HomeCorners', 'AC': 'AwayCorners', 'HF': 'HomeFouls', 'AF': 'AwayFouls', 'HC': 'HomeCorners', 'AC':'AwayCorners', 'HY': 'HomeYellowCards', 'AY': 'AwayYellowCards', 'HR': 'HomeRedCards', 'AR':'AwayRedCards'  })\n",
        "\n",
        "stats3.head()\n"
      ],
      "execution_count": 0,
      "outputs": [
        {
          "output_type": "execute_result",
          "data": {
            "text/html": [
              "<div>\n",
              "<style scoped>\n",
              "    .dataframe tbody tr th:only-of-type {\n",
              "        vertical-align: middle;\n",
              "    }\n",
              "\n",
              "    .dataframe tbody tr th {\n",
              "        vertical-align: top;\n",
              "    }\n",
              "\n",
              "    .dataframe thead th {\n",
              "        text-align: right;\n",
              "    }\n",
              "</style>\n",
              "<table border=\"1\" class=\"dataframe\">\n",
              "  <thead>\n",
              "    <tr style=\"text-align: right;\">\n",
              "      <th></th>\n",
              "      <th>HomeTeam</th>\n",
              "      <th>AwayTeam</th>\n",
              "      <th>Result</th>\n",
              "      <th>HomeGoals</th>\n",
              "      <th>AwayGoals</th>\n",
              "      <th>HomeShots</th>\n",
              "      <th>AwayShots</th>\n",
              "      <th>HomeShotsOnTarget</th>\n",
              "      <th>AwayShotsOnTarget</th>\n",
              "      <th>HomeCorners</th>\n",
              "      <th>AwayCorners</th>\n",
              "      <th>HomeFouls</th>\n",
              "      <th>AwayFouls</th>\n",
              "      <th>HomeYellowCards</th>\n",
              "      <th>AwayYellowCards</th>\n",
              "      <th>HomeRedCards</th>\n",
              "      <th>AwayRedCards</th>\n",
              "    </tr>\n",
              "  </thead>\n",
              "  <tbody>\n",
              "    <tr>\n",
              "      <th>0</th>\n",
              "      <td>Burnley</td>\n",
              "      <td>Swansea</td>\n",
              "      <td>A</td>\n",
              "      <td>0</td>\n",
              "      <td>1</td>\n",
              "      <td>10</td>\n",
              "      <td>17</td>\n",
              "      <td>3</td>\n",
              "      <td>9</td>\n",
              "      <td>7</td>\n",
              "      <td>4</td>\n",
              "      <td>10</td>\n",
              "      <td>14</td>\n",
              "      <td>3</td>\n",
              "      <td>2</td>\n",
              "      <td>0</td>\n",
              "      <td>0</td>\n",
              "    </tr>\n",
              "    <tr>\n",
              "      <th>1</th>\n",
              "      <td>Crystal Palace</td>\n",
              "      <td>West Brom</td>\n",
              "      <td>A</td>\n",
              "      <td>0</td>\n",
              "      <td>1</td>\n",
              "      <td>14</td>\n",
              "      <td>13</td>\n",
              "      <td>4</td>\n",
              "      <td>3</td>\n",
              "      <td>3</td>\n",
              "      <td>6</td>\n",
              "      <td>12</td>\n",
              "      <td>15</td>\n",
              "      <td>2</td>\n",
              "      <td>2</td>\n",
              "      <td>0</td>\n",
              "      <td>0</td>\n",
              "    </tr>\n",
              "    <tr>\n",
              "      <th>2</th>\n",
              "      <td>Everton</td>\n",
              "      <td>Tottenham</td>\n",
              "      <td>D</td>\n",
              "      <td>1</td>\n",
              "      <td>1</td>\n",
              "      <td>12</td>\n",
              "      <td>13</td>\n",
              "      <td>6</td>\n",
              "      <td>4</td>\n",
              "      <td>5</td>\n",
              "      <td>6</td>\n",
              "      <td>10</td>\n",
              "      <td>14</td>\n",
              "      <td>0</td>\n",
              "      <td>0</td>\n",
              "      <td>0</td>\n",
              "      <td>0</td>\n",
              "    </tr>\n",
              "    <tr>\n",
              "      <th>3</th>\n",
              "      <td>Hull</td>\n",
              "      <td>Leicester</td>\n",
              "      <td>H</td>\n",
              "      <td>2</td>\n",
              "      <td>1</td>\n",
              "      <td>14</td>\n",
              "      <td>18</td>\n",
              "      <td>5</td>\n",
              "      <td>5</td>\n",
              "      <td>5</td>\n",
              "      <td>3</td>\n",
              "      <td>8</td>\n",
              "      <td>17</td>\n",
              "      <td>2</td>\n",
              "      <td>2</td>\n",
              "      <td>0</td>\n",
              "      <td>0</td>\n",
              "    </tr>\n",
              "    <tr>\n",
              "      <th>4</th>\n",
              "      <td>Man City</td>\n",
              "      <td>Sunderland</td>\n",
              "      <td>H</td>\n",
              "      <td>2</td>\n",
              "      <td>1</td>\n",
              "      <td>16</td>\n",
              "      <td>7</td>\n",
              "      <td>4</td>\n",
              "      <td>3</td>\n",
              "      <td>9</td>\n",
              "      <td>6</td>\n",
              "      <td>11</td>\n",
              "      <td>14</td>\n",
              "      <td>1</td>\n",
              "      <td>2</td>\n",
              "      <td>0</td>\n",
              "      <td>0</td>\n",
              "    </tr>\n",
              "  </tbody>\n",
              "</table>\n",
              "</div>"
            ],
            "text/plain": [
              "         HomeTeam    AwayTeam  ... HomeRedCards  AwayRedCards\n",
              "0         Burnley     Swansea  ...            0             0\n",
              "1  Crystal Palace   West Brom  ...            0             0\n",
              "2         Everton   Tottenham  ...            0             0\n",
              "3            Hull   Leicester  ...            0             0\n",
              "4        Man City  Sunderland  ...            0             0\n",
              "\n",
              "[5 rows x 17 columns]"
            ]
          },
          "metadata": {
            "tags": []
          },
          "execution_count": 5
        }
      ]
    },
    {
      "cell_type": "markdown",
      "metadata": {
        "id": "8kMApAw8pNuk",
        "colab_type": "text"
      },
      "source": [
        "## 3. do some basic marginal and scatterplots or basic table summaries of the data"
      ]
    },
    {
      "cell_type": "code",
      "metadata": {
        "id": "ZoV7BfZGTMJw",
        "colab_type": "code",
        "outputId": "3d9fb613-9800-4182-d223-0a74b03ed214",
        "colab": {
          "base_uri": "https://localhost:8080/",
          "height": 320
        }
      },
      "source": [
        "stats3.describe()"
      ],
      "execution_count": 0,
      "outputs": [
        {
          "output_type": "execute_result",
          "data": {
            "text/html": [
              "<div>\n",
              "<style scoped>\n",
              "    .dataframe tbody tr th:only-of-type {\n",
              "        vertical-align: middle;\n",
              "    }\n",
              "\n",
              "    .dataframe tbody tr th {\n",
              "        vertical-align: top;\n",
              "    }\n",
              "\n",
              "    .dataframe thead th {\n",
              "        text-align: right;\n",
              "    }\n",
              "</style>\n",
              "<table border=\"1\" class=\"dataframe\">\n",
              "  <thead>\n",
              "    <tr style=\"text-align: right;\">\n",
              "      <th></th>\n",
              "      <th>HomeGoals</th>\n",
              "      <th>AwayGoals</th>\n",
              "      <th>HomeShots</th>\n",
              "      <th>AwayShots</th>\n",
              "      <th>HomeShotsOnTarget</th>\n",
              "      <th>AwayShotsOnTarget</th>\n",
              "      <th>HomeCorners</th>\n",
              "      <th>AwayCorners</th>\n",
              "      <th>HomeFouls</th>\n",
              "      <th>AwayFouls</th>\n",
              "      <th>HomeYellowCards</th>\n",
              "      <th>AwayYellowCards</th>\n",
              "      <th>HomeRedCards</th>\n",
              "      <th>AwayRedCards</th>\n",
              "    </tr>\n",
              "  </thead>\n",
              "  <tbody>\n",
              "    <tr>\n",
              "      <th>count</th>\n",
              "      <td>380.000000</td>\n",
              "      <td>380.000000</td>\n",
              "      <td>380.000000</td>\n",
              "      <td>380.000000</td>\n",
              "      <td>380.000000</td>\n",
              "      <td>380.000000</td>\n",
              "      <td>380.000000</td>\n",
              "      <td>380.000000</td>\n",
              "      <td>380.000000</td>\n",
              "      <td>380.000000</td>\n",
              "      <td>380.000000</td>\n",
              "      <td>380.000000</td>\n",
              "      <td>380.000000</td>\n",
              "      <td>380.000000</td>\n",
              "    </tr>\n",
              "    <tr>\n",
              "      <th>mean</th>\n",
              "      <td>1.597368</td>\n",
              "      <td>1.202632</td>\n",
              "      <td>14.013158</td>\n",
              "      <td>11.484211</td>\n",
              "      <td>4.813158</td>\n",
              "      <td>3.855263</td>\n",
              "      <td>5.678947</td>\n",
              "      <td>4.734211</td>\n",
              "      <td>11.063158</td>\n",
              "      <td>11.657895</td>\n",
              "      <td>1.744737</td>\n",
              "      <td>1.886842</td>\n",
              "      <td>0.055263</td>\n",
              "      <td>0.052632</td>\n",
              "    </tr>\n",
              "    <tr>\n",
              "      <th>std</th>\n",
              "      <td>1.306971</td>\n",
              "      <td>1.227862</td>\n",
              "      <td>5.878033</td>\n",
              "      <td>5.019462</td>\n",
              "      <td>2.817086</td>\n",
              "      <td>2.383452</td>\n",
              "      <td>3.084916</td>\n",
              "      <td>2.702562</td>\n",
              "      <td>3.468853</td>\n",
              "      <td>3.556378</td>\n",
              "      <td>1.256371</td>\n",
              "      <td>1.301647</td>\n",
              "      <td>0.240050</td>\n",
              "      <td>0.223591</td>\n",
              "    </tr>\n",
              "    <tr>\n",
              "      <th>min</th>\n",
              "      <td>0.000000</td>\n",
              "      <td>0.000000</td>\n",
              "      <td>3.000000</td>\n",
              "      <td>1.000000</td>\n",
              "      <td>0.000000</td>\n",
              "      <td>0.000000</td>\n",
              "      <td>0.000000</td>\n",
              "      <td>0.000000</td>\n",
              "      <td>2.000000</td>\n",
              "      <td>3.000000</td>\n",
              "      <td>0.000000</td>\n",
              "      <td>0.000000</td>\n",
              "      <td>0.000000</td>\n",
              "      <td>0.000000</td>\n",
              "    </tr>\n",
              "    <tr>\n",
              "      <th>25%</th>\n",
              "      <td>1.000000</td>\n",
              "      <td>0.000000</td>\n",
              "      <td>10.000000</td>\n",
              "      <td>8.000000</td>\n",
              "      <td>3.000000</td>\n",
              "      <td>2.000000</td>\n",
              "      <td>3.000000</td>\n",
              "      <td>3.000000</td>\n",
              "      <td>9.000000</td>\n",
              "      <td>9.000000</td>\n",
              "      <td>1.000000</td>\n",
              "      <td>1.000000</td>\n",
              "      <td>0.000000</td>\n",
              "      <td>0.000000</td>\n",
              "    </tr>\n",
              "    <tr>\n",
              "      <th>50%</th>\n",
              "      <td>1.000000</td>\n",
              "      <td>1.000000</td>\n",
              "      <td>13.000000</td>\n",
              "      <td>11.000000</td>\n",
              "      <td>4.000000</td>\n",
              "      <td>3.000000</td>\n",
              "      <td>5.000000</td>\n",
              "      <td>4.000000</td>\n",
              "      <td>11.000000</td>\n",
              "      <td>12.000000</td>\n",
              "      <td>2.000000</td>\n",
              "      <td>2.000000</td>\n",
              "      <td>0.000000</td>\n",
              "      <td>0.000000</td>\n",
              "    </tr>\n",
              "    <tr>\n",
              "      <th>75%</th>\n",
              "      <td>2.000000</td>\n",
              "      <td>2.000000</td>\n",
              "      <td>17.000000</td>\n",
              "      <td>14.000000</td>\n",
              "      <td>6.000000</td>\n",
              "      <td>5.000000</td>\n",
              "      <td>8.000000</td>\n",
              "      <td>6.000000</td>\n",
              "      <td>13.000000</td>\n",
              "      <td>14.000000</td>\n",
              "      <td>3.000000</td>\n",
              "      <td>3.000000</td>\n",
              "      <td>0.000000</td>\n",
              "      <td>0.000000</td>\n",
              "    </tr>\n",
              "    <tr>\n",
              "      <th>max</th>\n",
              "      <td>6.000000</td>\n",
              "      <td>7.000000</td>\n",
              "      <td>37.000000</td>\n",
              "      <td>29.000000</td>\n",
              "      <td>17.000000</td>\n",
              "      <td>15.000000</td>\n",
              "      <td>19.000000</td>\n",
              "      <td>15.000000</td>\n",
              "      <td>24.000000</td>\n",
              "      <td>24.000000</td>\n",
              "      <td>6.000000</td>\n",
              "      <td>6.000000</td>\n",
              "      <td>2.000000</td>\n",
              "      <td>1.000000</td>\n",
              "    </tr>\n",
              "  </tbody>\n",
              "</table>\n",
              "</div>"
            ],
            "text/plain": [
              "        HomeGoals   AwayGoals  ...  HomeRedCards  AwayRedCards\n",
              "count  380.000000  380.000000  ...    380.000000    380.000000\n",
              "mean     1.597368    1.202632  ...      0.055263      0.052632\n",
              "std      1.306971    1.227862  ...      0.240050      0.223591\n",
              "min      0.000000    0.000000  ...      0.000000      0.000000\n",
              "25%      1.000000    0.000000  ...      0.000000      0.000000\n",
              "50%      1.000000    1.000000  ...      0.000000      0.000000\n",
              "75%      2.000000    2.000000  ...      0.000000      0.000000\n",
              "max      6.000000    7.000000  ...      2.000000      1.000000\n",
              "\n",
              "[8 rows x 14 columns]"
            ]
          },
          "metadata": {
            "tags": []
          },
          "execution_count": 6
        }
      ]
    },
    {
      "cell_type": "code",
      "metadata": {
        "id": "D1rENQeK0zvS",
        "colab_type": "code",
        "colab": {}
      },
      "source": [
        "hist, bin_edges = np.histogram(stats3.HomeGoals)"
      ],
      "execution_count": 0,
      "outputs": []
    },
    {
      "cell_type": "code",
      "metadata": {
        "id": "Nh_c8OUa1Qr4",
        "colab_type": "code",
        "outputId": "ca541863-bf1e-4926-ce2e-3ea20f55ae60",
        "colab": {
          "base_uri": "https://localhost:8080/",
          "height": 318
        }
      },
      "source": [
        "plt.hist(x=stats3.HomeGoals, bins='auto', color='#0504aa',\n",
        "                            alpha=0.7, rwidth=1);\n",
        "plt.title('Home Goals Season 16-17')\n",
        "plt.xlabel('Goals')\n",
        "plt.ylabel('Count')"
      ],
      "execution_count": 0,
      "outputs": [
        {
          "output_type": "execute_result",
          "data": {
            "text/plain": [
              "Text(0, 0.5, 'Count')"
            ]
          },
          "metadata": {
            "tags": []
          },
          "execution_count": 13
        },
        {
          "output_type": "display_data",
          "data": {
            "image/png": "[encoded data removed]",
            "text/plain": [
              "<Figure size 432x288 with 1 Axes>"
            ]
          },
          "metadata": {
            "tags": []
          }
        }
      ]
    },
    {
      "cell_type": "code",
      "metadata": {
        "id": "72JuwYw21qVc",
        "colab_type": "code",
        "outputId": "2afc4590-410a-440e-8ff9-0de1d89594ba",
        "colab": {
          "base_uri": "https://localhost:8080/",
          "height": 318
        }
      },
      "source": [
        "plt.hist(x=stats3.AwayGoals, bins='auto', color='#0504aa',\n",
        "                            alpha=0.7, rwidth=1);\n",
        "plt.title('Away Goals Season 16-17')\n",
        "plt.xlabel('Goals')\n",
        "plt.ylabel('Count')"
      ],
      "execution_count": 0,
      "outputs": [
        {
          "output_type": "execute_result",
          "data": {
            "text/plain": [
              "Text(0, 0.5, 'Count')"
            ]
          },
          "metadata": {
            "tags": []
          },
          "execution_count": 14
        },
        {
          "output_type": "display_data",
          "data": {
            "image/png": "[encoded data removed]",
            "text/plain": [
              "<Figure size 432x288 with 1 Axes>"
            ]
          },
          "metadata": {
            "tags": []
          }
        }
      ]
    },
    {
      "cell_type": "code",
      "metadata": {
        "id": "s-EBWryzpJq7",
        "colab_type": "code",
        "colab": {}
      },
      "source": [
        "def arrange_team_stats(season_stats, teams):\n",
        "  num = 0\n",
        "  teams_stats = []\n",
        "  for i in range (0,len(teams)):\n",
        "#     print('Team Number',i, 'is', season_stats.HomeTeam[i])\n",
        "  #   if stats.HomeTeam[stats.HomeTeam == teams[i]] == teams[i]:\n",
        "    index =  season_stats.index[(season_stats.loc[:,'HomeTeam'] == teams[i]) | (season_stats.loc[:,'AwayTeam'] == teams[i]) ] \n",
        "    indices = np.array(index, dtype='int')\n",
        "    teams_stats.append([])\n",
        "  #   print(indices)\n",
        "    for j in range (0,len(indices)):\n",
        "      teams_stats[i].append(season_stats.iloc[indices[j]])\n",
        "  return teams_stats"
      ],
      "execution_count": 0,
      "outputs": []
    },
    {
      "cell_type": "code",
      "metadata": {
        "id": "-106oQuxpqHc",
        "colab_type": "code",
        "colab": {}
      },
      "source": [
        "season14 = arrange_team_stats(stats1, teams_14_15)"
      ],
      "execution_count": 0,
      "outputs": []
    },
    {
      "cell_type": "code",
      "metadata": {
        "id": "_N-apyZX29p2",
        "colab_type": "code",
        "colab": {}
      },
      "source": [
        "season15 = arrange_team_stats(stats2, teams_15_16)"
      ],
      "execution_count": 0,
      "outputs": []
    },
    {
      "cell_type": "code",
      "metadata": {
        "id": "gxlvkFC23Fvf",
        "colab_type": "code",
        "colab": {}
      },
      "source": [
        "season16 = arrange_team_stats(stats3, teams_16_17)"
      ],
      "execution_count": 0,
      "outputs": []
    },
    {
      "cell_type": "code",
      "metadata": {
        "id": "tZ8K3HbK3LkT",
        "colab_type": "code",
        "colab": {}
      },
      "source": [
        "season17 = arrange_team_stats(stats4, teams_17_18)"
      ],
      "execution_count": 0,
      "outputs": []
    },
    {
      "cell_type": "code",
      "metadata": {
        "id": "nIlJ0ABYBOqU",
        "colab_type": "code",
        "colab": {}
      },
      "source": [
        "# print(season14[0][1])"
      ],
      "execution_count": 0,
      "outputs": []
    },
    {
      "cell_type": "code",
      "metadata": {
        "id": "vK3lXhy6A9e6",
        "colab_type": "code",
        "outputId": "214dd864-6c35-4097-dd0b-471ecda76151",
        "colab": {
          "base_uri": "https://localhost:8080/",
          "height": 34
        }
      },
      "source": [
        "print('Home Goals scored by', season14[0][1][0], 'against', season14[0][1][1], ':', season14[0][1][3])"
      ],
      "execution_count": 0,
      "outputs": [
        {
          "output_type": "stream",
          "text": [
            "Home Goals scored by Everton against Arsenal : 2\n"
          ],
          "name": "stdout"
        }
      ]
    },
    {
      "cell_type": "markdown",
      "metadata": {
        "id": "PtYfjBNYuRKb",
        "colab_type": "text"
      },
      "source": [
        "For features, I will extract Goals, Shots, Corners, and Fouls "
      ]
    },
    {
      "cell_type": "code",
      "metadata": {
        "id": "lHNcZS0wuPL-",
        "colab_type": "code",
        "colab": {}
      },
      "source": [
        "def feature_extractor(season_stats, team):\n",
        "  team_stats = season_stats\n",
        "  teams = team\n",
        "  shapee = (20,4) \n",
        "  features = np.zeros(shapee)\n",
        "  for i in range (0,len(team_stats)):\n",
        "#     print('Team:', teams[i])\n",
        "    for j in range (0, len(team_stats[i])):\n",
        "      if (team_stats[i][j][0] == teams[i]): #home\n",
        "        features[i, 0] += team_stats[i][j][3] #home goals\n",
        "        features[i, 1] += team_stats[i][j][5] #home shots\n",
        "        features[i, 2] += team_stats[i][j][9] #home corners\n",
        "        features[i, 3] += team_stats[i][j][11] #home fouls\n",
        "      elif (team_stats[i][j][1] == teams[i]): #away\n",
        "        features[i, 0] += team_stats[i][j][4] #away goals\n",
        "        features[i, 1] += team_stats[i][j][6] #away shots\n",
        "        features[i, 2] += team_stats[i][j][10] #away corners\n",
        "        features[i, 3] += team_stats[i][j][12] #away fouls\n",
        "#     print('     Points:', team_points[i])\n",
        "  return features"
      ],
      "execution_count": 0,
      "outputs": []
    },
    {
      "cell_type": "code",
      "metadata": {
        "id": "4DI5F7I-xGHy",
        "colab_type": "code",
        "outputId": "dc3f4f67-0abe-4df4-f2a5-10a0ebc837f1",
        "colab": {
          "base_uri": "https://localhost:8080/",
          "height": 206
        }
      },
      "source": [
        "features = feature_extractor(season14, teams_14_15)\n",
        "features.shape\n",
        "features14 = pd.DataFrame({'Teams': teams_14_15, 'Goals': features[:, 0], 'Shots': features[:, 1], 'Corners': features[:, 2], 'Fouls': features[:, 3] })\n",
        "features14.head()"
      ],
      "execution_count": 0,
      "outputs": [
        {
          "output_type": "execute_result",
          "data": {
            "text/html": [
              "<div>\n",
              "<style scoped>\n",
              "    .dataframe tbody tr th:only-of-type {\n",
              "        vertical-align: middle;\n",
              "    }\n",
              "\n",
              "    .dataframe tbody tr th {\n",
              "        vertical-align: top;\n",
              "    }\n",
              "\n",
              "    .dataframe thead th {\n",
              "        text-align: right;\n",
              "    }\n",
              "</style>\n",
              "<table border=\"1\" class=\"dataframe\">\n",
              "  <thead>\n",
              "    <tr style=\"text-align: right;\">\n",
              "      <th></th>\n",
              "      <th>Teams</th>\n",
              "      <th>Goals</th>\n",
              "      <th>Shots</th>\n",
              "      <th>Corners</th>\n",
              "      <th>Fouls</th>\n",
              "    </tr>\n",
              "  </thead>\n",
              "  <tbody>\n",
              "    <tr>\n",
              "      <th>0</th>\n",
              "      <td>Arsenal</td>\n",
              "      <td>71.0</td>\n",
              "      <td>612.0</td>\n",
              "      <td>254.0</td>\n",
              "      <td>377.0</td>\n",
              "    </tr>\n",
              "    <tr>\n",
              "      <th>1</th>\n",
              "      <td>Leicester</td>\n",
              "      <td>46.0</td>\n",
              "      <td>457.0</td>\n",
              "      <td>211.0</td>\n",
              "      <td>457.0</td>\n",
              "    </tr>\n",
              "    <tr>\n",
              "      <th>2</th>\n",
              "      <td>Man United</td>\n",
              "      <td>62.0</td>\n",
              "      <td>509.0</td>\n",
              "      <td>213.0</td>\n",
              "      <td>453.0</td>\n",
              "    </tr>\n",
              "    <tr>\n",
              "      <th>3</th>\n",
              "      <td>QPR</td>\n",
              "      <td>42.0</td>\n",
              "      <td>533.0</td>\n",
              "      <td>179.0</td>\n",
              "      <td>447.0</td>\n",
              "    </tr>\n",
              "    <tr>\n",
              "      <th>4</th>\n",
              "      <td>Stoke</td>\n",
              "      <td>48.0</td>\n",
              "      <td>501.0</td>\n",
              "      <td>192.0</td>\n",
              "      <td>486.0</td>\n",
              "    </tr>\n",
              "  </tbody>\n",
              "</table>\n",
              "</div>"
            ],
            "text/plain": [
              "        Teams  Goals  Shots  Corners  Fouls\n",
              "0     Arsenal   71.0  612.0    254.0  377.0\n",
              "1   Leicester   46.0  457.0    211.0  457.0\n",
              "2  Man United   62.0  509.0    213.0  453.0\n",
              "3         QPR   42.0  533.0    179.0  447.0\n",
              "4       Stoke   48.0  501.0    192.0  486.0"
            ]
          },
          "metadata": {
            "tags": []
          },
          "execution_count": 80
        }
      ]
    },
    {
      "cell_type": "code",
      "metadata": {
        "id": "6tOyXieH0AA9",
        "colab_type": "code",
        "colab": {}
      },
      "source": [
        "features = feature_extractor(season15, teams_15_16)\n",
        "features.shape\n",
        "features15 = pd.DataFrame({'Teams': teams_15_16, 'Goals': features[:, 0], 'Shots': features[:, 1], 'Corners': features[:, 2], 'Fouls': features[:, 3] })"
      ],
      "execution_count": 0,
      "outputs": []
    },
    {
      "cell_type": "code",
      "metadata": {
        "id": "EcqbTBMs0Hqd",
        "colab_type": "code",
        "colab": {}
      },
      "source": [
        "features = feature_extractor(season15, teams_16_17)\n",
        "features.shape\n",
        "features16 = pd.DataFrame({'Teams': teams_16_17, 'Goals': features[:, 0], 'Shots': features[:, 1], 'Corners': features[:, 2], 'Fouls': features[:, 3] })"
      ],
      "execution_count": 0,
      "outputs": []
    },
    {
      "cell_type": "code",
      "metadata": {
        "id": "A9JurS7M0PQ6",
        "colab_type": "code",
        "colab": {}
      },
      "source": [
        "features = feature_extractor(season15, teams_17_18)\n",
        "features.shape\n",
        "features17 = pd.DataFrame({'Teams': teams_17_18, 'Goals': features[:, 0], 'Shots': features[:, 1], 'Corners': features[:, 2], 'Fouls': features[:, 3] })"
      ],
      "execution_count": 0,
      "outputs": []
    },
    {
      "cell_type": "markdown",
      "metadata": {
        "id": "6v7YcVKm1FMg",
        "colab_type": "text"
      },
      "source": [
        "Combine features from all seasons: "
      ]
    },
    {
      "cell_type": "code",
      "metadata": {
        "id": "4T9C5MBFCuhc",
        "colab_type": "code",
        "outputId": "f04a95ff-4d47-459e-d21f-caaf0c1abc75",
        "colab": {
          "base_uri": "https://localhost:8080/",
          "height": 54
        }
      },
      "source": [
        "# teamss = list(zip(teams_14_15, teams_15_16, teams_16_17, teams_17_18))\n",
        "# teamss = teams_14_15 + teams_15_16 + teams_16_17 + teams_17_18\n",
        "teams = list(teams_14_15)\n",
        "teams.extend(list(teams_15_16))\n",
        "teams.extend(list(teams_16_17))\n",
        "teams.extend(list(teams_17_18))\n",
        "print(teams)"
      ],
      "execution_count": 0,
      "outputs": [
        {
          "output_type": "stream",
          "text": [
            "['Arsenal', 'Leicester', 'Man United', 'QPR', 'Stoke', 'West Brom', 'West Ham', 'Liverpool', 'Newcastle', 'Burnley', 'Aston Villa', 'Chelsea', 'Crystal Palace', 'Everton', 'Southampton', 'Swansea', 'Hull', 'Sunderland', 'Tottenham', 'Man City', 'Bournemouth', 'Chelsea', 'Everton', 'Leicester', 'Man United', 'Norwich', 'Arsenal', 'Newcastle', 'Stoke', 'West Brom', 'Aston Villa', 'Southampton', 'Sunderland', 'Swansea', 'Tottenham', 'Watford', 'West Ham', 'Crystal Palace', 'Man City', 'Liverpool', 'Burnley', 'Crystal Palace', 'Everton', 'Hull', 'Man City', 'Middlesbrough', 'Southampton', 'Arsenal', 'Bournemouth', 'Chelsea', 'Man United', 'Leicester', 'Stoke', 'Swansea', 'Tottenham', 'Watford', 'West Brom', 'Sunderland', 'West Ham', 'Liverpool', 'Arsenal', 'Brighton', 'Chelsea', 'Crystal Palace', 'Everton', 'Southampton', 'Watford', 'West Brom', 'Man United', 'Newcastle', 'Bournemouth', 'Burnley', 'Leicester', 'Liverpool', 'Stoke', 'Swansea', 'Huddersfield', 'Tottenham', 'Man City', 'West Ham']\n"
          ],
          "name": "stdout"
        }
      ]
    },
    {
      "cell_type": "code",
      "metadata": {
        "id": "JWZFc3d_FrvK",
        "colab_type": "code",
        "outputId": "afc65ee9-0b37-4e10-f309-4d95a9233412",
        "colab": {
          "base_uri": "https://localhost:8080/",
          "height": 103
        }
      },
      "source": [
        "teams = np.array(teams)\n",
        "teams = np.unique(teams)\n",
        "print(teams)"
      ],
      "execution_count": 0,
      "outputs": [
        {
          "output_type": "stream",
          "text": [
            "['Arsenal' 'Aston Villa' 'Bournemouth' 'Brighton' 'Burnley' 'Chelsea'\n",
            " 'Crystal Palace' 'Everton' 'Huddersfield' 'Hull' 'Leicester' 'Liverpool'\n",
            " 'Man City' 'Man United' 'Middlesbrough' 'Newcastle' 'Norwich' 'QPR'\n",
            " 'Southampton' 'Stoke' 'Sunderland' 'Swansea' 'Tottenham' 'Watford'\n",
            " 'West Brom' 'West Ham']\n"
          ],
          "name": "stdout"
        }
      ]
    },
    {
      "cell_type": "code",
      "metadata": {
        "id": "Nwdo7loH1TG_",
        "colab_type": "code",
        "colab": {}
      },
      "source": [
        "s1 = features14\n",
        "s2 = features15\n",
        "s3 = features16\n",
        "s4 = features17\n",
        "seasons = 4 \n",
        "shapee = (len(teams), 4, 4)\n",
        "features = np.zeros(shapee)\n",
        "for s in range (0, seasons):\n",
        "  for i in range (0, len(teams)):\n",
        "#     print(i)\n",
        "    if s == 0:\n",
        "      p = s1[s1['Teams'] == teams[i]]\n",
        "#       print(p)\n",
        "    elif s == 1:\n",
        "      p = s2[s2['Teams'] == teams[i]]\n",
        "#       print(p)\n",
        "    elif s == 2:\n",
        "      p = s3[s3['Teams'] == teams[i]]\n",
        "#       print(p)\n",
        "    elif s == 3:\n",
        "      p = s4[s4['Teams'] == teams[i]]\n",
        "#       print(p)\n",
        "    if p.shape[0] == 0:\n",
        "      0\n",
        "    else:\n",
        "#       print(p.loc[0][1:])\n",
        "#       print((p.iloc[0][1:]).tolist())\n",
        "      features[i][s] += (p.iloc[0][1:]).tolist()"
      ],
      "execution_count": 0,
      "outputs": []
    },
    {
      "cell_type": "code",
      "metadata": {
        "id": "n1jWu6OG9KuJ",
        "colab_type": "code",
        "outputId": "ac77088a-9e96-4495-b768-40b4b3b347dd",
        "colab": {
          "base_uri": "https://localhost:8080/",
          "height": 51
        }
      },
      "source": [
        "print('The feature data is of size:',features.shape)\n",
        "print('Where there are 26 teams, 4 features, and 4 seasons of data')"
      ],
      "execution_count": 0,
      "outputs": [
        {
          "output_type": "stream",
          "text": [
            "The feature data is of size: (26, 4, 4)\n",
            "Where there are 26 teams, 4 features, and 4 seasons of data\n"
          ],
          "name": "stdout"
        }
      ]
    },
    {
      "cell_type": "code",
      "metadata": {
        "id": "Au4gTnKm7nMX",
        "colab_type": "code",
        "colab": {}
      },
      "source": [
        "shapee = (len(features), 4)\n",
        "season1 = np.zeros(shapee)\n",
        "season2 = np.zeros(shapee)\n",
        "season3 = np.zeros(shapee)\n",
        "season4 = np.zeros(shapee)\n",
        "\n",
        "for i in range (0, len(features)):\n",
        "  season1[i] = features[i,:, 0]\n",
        "  season2[i] = features[i,:, 1]\n",
        "  season3[i] = features[i,:, 2]\n",
        "  season4[i] = features[i,:, 3]"
      ],
      "execution_count": 0,
      "outputs": []
    },
    {
      "cell_type": "code",
      "metadata": {
        "id": "rHfCYB5S1ElL",
        "colab_type": "code",
        "colab": {}
      },
      "source": [
        "feature_data = pd.DataFrame({'Team' : teams, 'Season 1 Goals': season1[:, 0], 'Season 1 Shots' : season1[:,1], 'Season 1 Corners' : season1[:,2], 'Season 1 Fouls' : season1[:,3],\n",
        "                         'Season 2 Goals': season2[:, 0], 'Season 2 Shots' : season2[:,1], 'Season 2 Corners' : season2[:,2], 'Season 2 Fouls' : season2[:,3],\n",
        "                         'Season 3 Goals': season3[:, 0], 'Season 3 Shots' : season3[:,1], 'Season 3 Corners' : season3[:,2], 'Season 3 Fouls' : season3[:,3],\n",
        "                         'Season 4 Goals': season4[:, 0], 'Season 4 Shots' : season4[:,1], 'Season 4 Corners' : season4[:,2], 'Season 4 Fouls' : season4[:,3]})\n",
        "# features.tail()"
      ],
      "execution_count": 0,
      "outputs": []
    },
    {
      "cell_type": "code",
      "metadata": {
        "id": "67XTtQ34AcMF",
        "colab_type": "code",
        "outputId": "c72e0797-e115-4cf4-811c-846de9b38332",
        "colab": {
          "base_uri": "https://localhost:8080/",
          "height": 34
        }
      },
      "source": [
        "feature_data.shape"
      ],
      "execution_count": 0,
      "outputs": [
        {
          "output_type": "execute_result",
          "data": {
            "text/plain": [
              "(26, 17)"
            ]
          },
          "metadata": {
            "tags": []
          },
          "execution_count": 176
        }
      ]
    },
    {
      "cell_type": "markdown",
      "metadata": {
        "id": "esU1sOx9CypX",
        "colab_type": "text"
      },
      "source": [
        "The Labels will be the Premier League Table. The Premier League Table is a scoring system that determines the winner of the league by awarding 3 points to teams for every win, 1 point to teams for every draw, and 0 points for every loss. Below I will establish these labels by computing the league table in 2016-17.   "
      ]
    },
    {
      "cell_type": "code",
      "metadata": {
        "id": "ZaaEEN9A1bSY",
        "colab_type": "code",
        "colab": {}
      },
      "source": [
        "def table_points(teams_stats, team):\n",
        "  teams = team\n",
        "  team_points = np.zeros(20)\n",
        "  for i in range (0,len(teams_stats)):\n",
        "#     print('Team:', teams[i])\n",
        "    for j in range (0, len(teams_stats[i])):\n",
        "      if (teams_stats[i][j][0] == teams[i]) and (teams_stats[i][j][2] == 'H'):\n",
        "        team_points[i] = team_points[i] + 3\n",
        "      elif (teams_stats[i][j][0] == teams[i]) and (teams_stats[i][j][2] == 'D'):\n",
        "        team_points[i] = team_points[i] + 1\n",
        "      elif (teams_stats[i][j][1] == teams[i]) and (teams_stats[i][j][2] == 'A'):\n",
        "        team_points[i] = team_points[i] + 3\n",
        "      elif (teams_stats[i][j][1] == teams[i]) and (teams_stats[i][j][2] == 'D'):\n",
        "        team_points[i] = team_points[i] + 1\n",
        "#     print('     Points:', team_points[i])\n",
        "  return team_points"
      ],
      "execution_count": 0,
      "outputs": []
    },
    {
      "cell_type": "code",
      "metadata": {
        "id": "k824m36w2BiO",
        "colab_type": "code",
        "colab": {}
      },
      "source": [
        "season_points14 = table_points(season14, teams_14_15)"
      ],
      "execution_count": 0,
      "outputs": []
    },
    {
      "cell_type": "code",
      "metadata": {
        "id": "qEgCES5u3TGV",
        "colab_type": "code",
        "colab": {}
      },
      "source": [
        "season_points15 = table_points(season15, teams_15_16)"
      ],
      "execution_count": 0,
      "outputs": []
    },
    {
      "cell_type": "code",
      "metadata": {
        "id": "d1Shp24S3Z3X",
        "colab_type": "code",
        "colab": {}
      },
      "source": [
        "season_points16 = table_points(season16, teams_16_17)"
      ],
      "execution_count": 0,
      "outputs": []
    },
    {
      "cell_type": "code",
      "metadata": {
        "id": "fVHtmi3Z3diH",
        "colab_type": "code",
        "colab": {}
      },
      "source": [
        "season_points17 = table_points(season17, teams_17_18)"
      ],
      "execution_count": 0,
      "outputs": []
    },
    {
      "cell_type": "code",
      "metadata": {
        "id": "IHBKdJXGE45I",
        "colab_type": "code",
        "outputId": "5485cfd7-9091-4f7f-c2d9-263bf3e5a3bb",
        "colab": {
          "base_uri": "https://localhost:8080/",
          "height": 717
        }
      },
      "source": [
        "plt.figure(figsize=(20,10))\n",
        "x = np.arange(20)\n",
        "plt.xticks(x, teams_14_15, rotation=45)\n",
        "plt.stem(x, season_points14)\n",
        "plt.title('Premier League Table 2014-2015')\n",
        "plt.xlabel('Team')\n",
        "plt.ylabel('Points')\n",
        "print('Top teams in the Premier League in 2014-15:', sorted( [(x,teams_14_15[i]) for (i,x) in enumerate(season_points14)], reverse=True )[:3] )"
      ],
      "execution_count": 0,
      "outputs": [
        {
          "output_type": "stream",
          "text": [
            "Top teams in the Premier League in 2014-15: [(87.0, 'Chelsea'), (79.0, 'Man City'), (75.0, 'Arsenal')]\n"
          ],
          "name": "stdout"
        },
        {
          "output_type": "display_data",
          "data": {
            "image/png": "[encoded data removed]",
            "text/plain": [
              "<Figure size 1440x720 with 1 Axes>"
            ]
          },
          "metadata": {
            "tags": []
          }
        }
      ]
    },
    {
      "cell_type": "code",
      "metadata": {
        "id": "Vrq1ZVcf2t9L",
        "colab_type": "code",
        "outputId": "9ad92c92-8e87-4217-db69-0f7de832f861",
        "colab": {
          "base_uri": "https://localhost:8080/",
          "height": 717
        }
      },
      "source": [
        "plt.figure(figsize=(20,10))\n",
        "x = np.arange(20)\n",
        "plt.xticks(x, teams_15_16, rotation=45)\n",
        "plt.stem(x, season_points15)\n",
        "plt.title('Premier League Table 2015-2016')\n",
        "plt.xlabel('Team')\n",
        "plt.ylabel('Points')\n",
        "print('Top teams in the Premier League in 2015-16:', sorted( [(x,teams_15_16[i]) for (i,x) in enumerate(season_points15)], reverse=True )[:3] )"
      ],
      "execution_count": 0,
      "outputs": [
        {
          "output_type": "stream",
          "text": [
            "Top teams in the Premier League in 2015-16: [(81.0, 'Leicester'), (71.0, 'Arsenal'), (70.0, 'Tottenham')]\n"
          ],
          "name": "stdout"
        },
        {
          "output_type": "display_data",
          "data": {
            "image/png": "[encoded data removed]",
            "text/plain": [
              "<Figure size 1440x720 with 1 Axes>"
            ]
          },
          "metadata": {
            "tags": []
          }
        }
      ]
    },
    {
      "cell_type": "code",
      "metadata": {
        "id": "D4DnrXs43uPm",
        "colab_type": "code",
        "outputId": "8e31451f-e4cd-4adb-a42c-1664653be32a",
        "colab": {
          "base_uri": "https://localhost:8080/",
          "height": 719
        }
      },
      "source": [
        "plt.figure(figsize=(20,10))\n",
        "x = np.arange(20)\n",
        "plt.xticks(x, teams_16_17, rotation=45)\n",
        "plt.stem(x, season_points16)\n",
        "plt.title('Premier League Table 2016-2017')\n",
        "plt.xlabel('Team')\n",
        "plt.ylabel('Points')\n",
        "print('Top teams in the Premier League in 2016-17:', sorted( [(x,teams_16_17[i]) for (i,x) in enumerate(season_points16)], reverse=True )[:3] )"
      ],
      "execution_count": 0,
      "outputs": [
        {
          "output_type": "stream",
          "text": [
            "Top teams in the Premier League in 2016-17: [(93.0, 'Chelsea'), (86.0, 'Tottenham'), (78.0, 'Man City')]\n"
          ],
          "name": "stdout"
        },
        {
          "output_type": "display_data",
          "data": {
            "image/png": "[encoded data removed]",
            "text/plain": [
              "<Figure size 1440x720 with 1 Axes>"
            ]
          },
          "metadata": {
            "tags": []
          }
        }
      ]
    },
    {
      "cell_type": "code",
      "metadata": {
        "id": "xor7ljE835zA",
        "colab_type": "code",
        "outputId": "2783e556-32f1-4827-cc4f-5c92e5171c6e",
        "colab": {
          "base_uri": "https://localhost:8080/",
          "height": 717
        }
      },
      "source": [
        "plt.figure(figsize=(20,10))\n",
        "x = np.arange(20)\n",
        "plt.xticks(x, teams_17_18, rotation=45)\n",
        "plt.stem(x, season_points17)\n",
        "plt.title('Premier League Table 2017-2018')\n",
        "plt.xlabel('Team')\n",
        "plt.ylabel('Points')\n",
        "print('Top teams in the Premier League in 2017-18:', sorted( [(x,teams_17_18[i]) for (i,x) in enumerate(season_points17)], reverse=True )[:3] )"
      ],
      "execution_count": 0,
      "outputs": [
        {
          "output_type": "stream",
          "text": [
            "Top teams in the Premier League in 2017-18: [(100.0, 'Man City'), (81.0, 'Man United'), (77.0, 'Tottenham')]\n"
          ],
          "name": "stdout"
        },
        {
          "output_type": "display_data",
          "data": {
            "image/png": "[encoded data removed]",
            "text/plain": [
              "<Figure size 1440x720 with 1 Axes>"
            ]
          },
          "metadata": {
            "tags": []
          }
        }
      ]
    },
    {
      "cell_type": "markdown",
      "metadata": {
        "id": "NSC4xMGH6OXH",
        "colab_type": "text"
      },
      "source": [
        "Now combine all the season tables from years 2014-2017 as training data labels to predict 2017-2018. "
      ]
    },
    {
      "cell_type": "code",
      "metadata": {
        "id": "gS18a6XmAgCu",
        "colab_type": "code",
        "colab": {}
      },
      "source": [
        "s14 = pd.DataFrame({'Teams 14': teams_14_15 })\n",
        "s14.insert(1, 'Points', season_points14)\n",
        "\n",
        "s15 = pd.DataFrame({'Teams 15': teams_15_16 })\n",
        "s15.insert(1, 'Points', season_points15)\n",
        "\n",
        "s16 = pd.DataFrame({'Teams 16': teams_16_17 })\n",
        "s16.insert(1, 'Points', season_points16)\n",
        "\n",
        "s17 = pd.DataFrame({'Teams 17': teams_17_18 })\n",
        "s17.insert(1, 'Points', season_points17)\n",
        "\n",
        "# s14"
      ],
      "execution_count": 0,
      "outputs": []
    },
    {
      "cell_type": "markdown",
      "metadata": {
        "id": "PmlHLkmHnGWI",
        "colab_type": "text"
      },
      "source": [
        "Computes total points over seasons"
      ]
    },
    {
      "cell_type": "code",
      "metadata": {
        "id": "6pBwutaKemvP",
        "colab_type": "code",
        "outputId": "c97b44eb-1b88-4c8c-c953-7d5b65624a8a",
        "colab": {
          "base_uri": "https://localhost:8080/",
          "height": 54
        }
      },
      "source": [
        "# def table_points(s1, s2, s3, s4):\n",
        "s1 = s14\n",
        "s2 = s15\n",
        "s3 = s16\n",
        "s4 = s17\n",
        "seasons = 4 \n",
        "current_teams_points = [0]*len(teams)\n",
        "for s in range (0, seasons):\n",
        "  for i in range (0, len(teams)):\n",
        "    if s == 0:\n",
        "      p = s1[s1['Teams 14'] == teams[i]]\n",
        "#       print(p)\n",
        "    elif s == 1:\n",
        "      p = s2[s2['Teams 15'] == teams[i]]\n",
        "#       print(p)\n",
        "    elif s == 2:\n",
        "      p = s3[s3['Teams 16'] == teams[i]]\n",
        "#       print(p)\n",
        "    elif s == 3:\n",
        "      p = s4[s4['Teams 17'] == teams[i]]\n",
        "#       print(p)\n",
        "    if (p['Points']).empty:\n",
        "      0\n",
        "    else:\n",
        "      current_teams_points[i] = current_teams_points[i] + int(p['Points']) \n",
        "\n",
        "print('Points:', current_teams_points)\n"
      ],
      "execution_count": 0,
      "outputs": [
        {
          "output_type": "stream",
          "text": [
            "Points: [284, 55, 132, 40, 127, 300, 175, 204, 37, 69, 213, 273, 323, 286, 28, 120, 34, 30, 205, 182, 101, 177, 297, 126, 163, 196]\n"
          ],
          "name": "stdout"
        }
      ]
    },
    {
      "cell_type": "markdown",
      "metadata": {
        "id": "q0qa4pbmnJSs",
        "colab_type": "text"
      },
      "source": [
        "Points per season of all teams"
      ]
    },
    {
      "cell_type": "code",
      "metadata": {
        "id": "lqI7NkgEm4qN",
        "colab_type": "code",
        "colab": {}
      },
      "source": [
        "# def table_points(s1, s2, s3, s4):\n",
        "s1 = s14\n",
        "s2 = s15\n",
        "s3 = s16\n",
        "s4 = s17\n",
        "seasons = 4 \n",
        "shapee = (len(teams), 4)\n",
        "current_teams_points = np.zeros(shapee)\n",
        "for s in range (0, seasons):\n",
        "  for i in range (0, len(teams)):\n",
        "    if s == 0:\n",
        "      p = s1[s1['Teams 14'] == teams[i]]\n",
        "#       print(p)\n",
        "    elif s == 1:\n",
        "      p = s2[s2['Teams 15'] == teams[i]]\n",
        "#       print(p)\n",
        "    elif s == 2:\n",
        "      p = s3[s3['Teams 16'] == teams[i]]\n",
        "#       print(p)\n",
        "    elif s == 3:\n",
        "      p = s4[s4['Teams 17'] == teams[i]]\n",
        "#       print(p)\n",
        "    if (p['Points']).empty:\n",
        "      0\n",
        "    else:\n",
        "      current_teams_points[i][s] = int(p['Points'])\n",
        "# print('Points:', current_teams_points)\n"
      ],
      "execution_count": 0,
      "outputs": []
    },
    {
      "cell_type": "code",
      "metadata": {
        "id": "4dMMZSFRqnkq",
        "colab_type": "code",
        "colab": {}
      },
      "source": [
        "season1 = [0]*len(current_teams_points)\n",
        "season2 = [0]*len(current_teams_points)\n",
        "season3 = [0]*len(current_teams_points)\n",
        "season4 = [0]*len(current_teams_points)\n",
        "for i in range (0, len(current_teams_points)):\n",
        "  season1[i] = current_teams_points[i, 0]\n",
        "  season2[i] = current_teams_points[i, 1]\n",
        "  season3[i] = current_teams_points[i, 2]\n",
        "  season4[i] = current_teams_points[i, 3]\n"
      ],
      "execution_count": 0,
      "outputs": []
    },
    {
      "cell_type": "code",
      "metadata": {
        "id": "K3L5Yazyo6nE",
        "colab_type": "code",
        "outputId": "cc3dc918-35a1-4563-a900-996caf2e1a61",
        "colab": {
          "base_uri": "https://localhost:8080/",
          "height": 34
        }
      },
      "source": [
        "labels = pd.DataFrame({'Season 1': season1, 'Season 2': season2, 'Season 3': season3, 'Season 4': season4,  })\n",
        "labels.shape"
      ],
      "execution_count": 0,
      "outputs": [
        {
          "output_type": "execute_result",
          "data": {
            "text/plain": [
              "(26, 4)"
            ]
          },
          "metadata": {
            "tags": []
          },
          "execution_count": 207
        }
      ]
    },
    {
      "cell_type": "code",
      "metadata": {
        "id": "Q8YkXV6DCyBU",
        "colab_type": "code",
        "outputId": "4dcb4e9a-1128-441b-c9cd-7522ace2e8b5",
        "colab": {
          "base_uri": "https://localhost:8080/",
          "height": 34
        }
      },
      "source": [
        "np.array(labels).shape"
      ],
      "execution_count": 0,
      "outputs": [
        {
          "output_type": "execute_result",
          "data": {
            "text/plain": [
              "(26, 4)"
            ]
          },
          "metadata": {
            "tags": []
          },
          "execution_count": 219
        }
      ]
    },
    {
      "cell_type": "markdown",
      "metadata": {
        "id": "iXAZlVOlwIKB",
        "colab_type": "text"
      },
      "source": [
        "# Model fitting\n"
      ]
    },
    {
      "cell_type": "markdown",
      "metadata": {
        "id": "_HhHhzhDMHWf",
        "colab_type": "text"
      },
      "source": [
        "## 1. fit a multivariable linear, logistic or neural network model"
      ]
    },
    {
      "cell_type": "code",
      "metadata": {
        "id": "XgYWyQem_q8g",
        "colab_type": "code",
        "outputId": "c4d606ee-1daf-41ae-b452-85bc5ee78f88",
        "colab": {
          "base_uri": "https://localhost:8080/",
          "height": 34
        }
      },
      "source": [
        "import torch\n",
        "x = torch.from_numpy(features)\n",
        "y = torch.from_numpy(np.array(labels))\n",
        "\n",
        "# ##pytorch wants type as float\n",
        "x = x.float()\n",
        "y = y.float()\n",
        "\n",
        "xtraining = x[: :, 1]\n",
        "xtesting = x[:, :, 2]\n",
        "ytraining = y[:, 1]\n",
        "ytesting = y[:, 2]\n",
        "\n",
        "[\n",
        " xtraining.size(),\n",
        " ytraining.size(),\n",
        " xtesting.size(),\n",
        " ytesting.size(),\n",
        "]"
      ],
      "execution_count": 0,
      "outputs": [
        {
          "output_type": "execute_result",
          "data": {
            "text/plain": [
              "[torch.Size([26, 4]), torch.Size([26]), torch.Size([26, 4]), torch.Size([26])]"
            ]
          },
          "metadata": {
            "tags": []
          },
          "execution_count": 392
        }
      ]
    },
    {
      "cell_type": "code",
      "metadata": {
        "id": "7gXMBUWHESnK",
        "colab_type": "code",
        "colab": {}
      },
      "source": [
        "## Define the model\n",
        "## Dimension of the hidden layer\n",
        "H = 10\n",
        "\n",
        "## Number of predictors\n",
        "D_in = xtraining.size()[1]\n",
        "D_out = 1\n",
        "\n",
        "model = torch.nn.Sequential(\n",
        "    torch.nn.Linear(D_in, H),\n",
        "    torch.nn.ReLU(),\n",
        "    torch.nn.Linear(H, D_out),\n",
        ")"
      ],
      "execution_count": 0,
      "outputs": []
    },
    {
      "cell_type": "code",
      "metadata": {
        "id": "qnClm1H-EUUp",
        "colab_type": "code",
        "outputId": "115101ee-9513-417f-b7d4-73c3c553ab8e",
        "colab": {
          "base_uri": "https://localhost:8080/",
          "height": 123
        }
      },
      "source": [
        "loss_fn = torch.nn.MSELoss(reduction='sum')\n",
        "losses = []\n",
        "learning_rate = 1e-4\n",
        "for t in range(300):\n",
        "    y_pred = model(xtraining)\n",
        "    loss = loss_fn(y_pred, ytraining)\n",
        "    losses.append(loss.item())\n",
        "    if t % 100 == 99:\n",
        "        print(t, loss.item())\n",
        "    model.zero_grad()\n",
        "    loss.backward()\n",
        "    with torch.no_grad():\n",
        "        for param in model.parameters():\n",
        "            param -= learning_rate * param.grad"
      ],
      "execution_count": 0,
      "outputs": [
        {
          "output_type": "stream",
          "text": [
            "99 437880.8125\n",
            "199 437870.90625\n",
            "299 437869.75\n"
          ],
          "name": "stdout"
        },
        {
          "output_type": "stream",
          "text": [
            "/usr/local/lib/python3.6/dist-packages/torch/nn/modules/loss.py:431: UserWarning: Using a target size (torch.Size([26])) that is different to the input size (torch.Size([26, 1])). This will likely lead to incorrect results due to broadcasting. Please ensure they have the same size.\n",
            "  return F.mse_loss(input, target, reduction=self.reduction)\n"
          ],
          "name": "stderr"
        }
      ]
    },
    {
      "cell_type": "code",
      "metadata": {
        "id": "hm7yZ83ZH0Le",
        "colab_type": "code",
        "outputId": "622fe2ce-6968-4f90-fb42-5632b42ffa7d",
        "colab": {
          "base_uri": "https://localhost:8080/",
          "height": 291
        }
      },
      "source": [
        "plt.plot(losses)"
      ],
      "execution_count": 0,
      "outputs": [
        {
          "output_type": "execute_result",
          "data": {
            "text/plain": [
              "[<matplotlib.lines.Line2D at 0x7f5034894b70>]"
            ]
          },
          "metadata": {
            "tags": []
          },
          "execution_count": 398
        },
        {
          "output_type": "display_data",
          "data": {
            "image/png": "[encoded data removed]",
            "text/plain": [
              "<Figure size 432x288 with 1 Axes>"
            ]
          },
          "metadata": {
            "tags": []
          }
        }
      ]
    },
    {
      "cell_type": "code",
      "metadata": {
        "id": "3YS87JgcFptZ",
        "colab_type": "code",
        "outputId": "eae81cdb-0d86-4442-c81e-c02dc14f7538",
        "colab": {
          "base_uri": "https://localhost:8080/",
          "height": 318
        }
      },
      "source": [
        "ytesting_pred = model(xtesting)\n",
        "a = ytesting_pred.detach().numpy()\n",
        "plt.scatter(a[:,0], ytesting[:])\n",
        "plt.title('2015-2016 Season Table Predictions')\n",
        "plt.ylabel('Actual')\n",
        "plt.xlabel('Predicted')"
      ],
      "execution_count": 0,
      "outputs": [
        {
          "output_type": "execute_result",
          "data": {
            "text/plain": [
              "Text(0.5, 0, 'Predicted')"
            ]
          },
          "metadata": {
            "tags": []
          },
          "execution_count": 419
        },
        {
          "output_type": "display_data",
          "data": {
            "image/png": "[encoded data removed]",
            "text/plain": [
              "<Figure size 432x288 with 1 Axes>"
            ]
          },
          "metadata": {
            "tags": []
          }
        }
      ]
    },
    {
      "cell_type": "code",
      "metadata": {
        "id": "qTbEf-9vMcrT",
        "colab_type": "code",
        "outputId": "9d6ae507-4838-4f61-beac-66cf4e30f51b",
        "colab": {
          "base_uri": "https://localhost:8080/",
          "height": 51
        }
      },
      "source": [
        "print('Predicted',teams[np.argmax(a)],' would win with', max(a), 'points.')\n",
        "print('Actually', teams_15_16[np.argmax(season_points15)], 'won with', max(season_points15), 'points')"
      ],
      "execution_count": 0,
      "outputs": [
        {
          "output_type": "stream",
          "text": [
            "Predicted Tottenham  would win with [121.22178] points.\n",
            "Actually Leicester won with 81.0 points\n"
          ],
          "name": "stdout"
        }
      ]
    },
    {
      "cell_type": "code",
      "metadata": {
        "id": "LtZqyoHrN8z0",
        "colab_type": "code",
        "outputId": "a96fa9bc-985f-4f8b-e061-18907d43ac63",
        "colab": {
          "base_uri": "https://localhost:8080/",
          "height": 318
        }
      },
      "source": [
        "plt.stem(a)\n",
        "plt.plot(season_points15)\n",
        "plt.title('Predicted vs Actual Table')\n",
        "plt.ylabel('Points')\n",
        "plt.xlabel('Teams')\n",
        "plt.legend(['Predicted', 'Actual'])"
      ],
      "execution_count": 0,
      "outputs": [
        {
          "output_type": "execute_result",
          "data": {
            "text/plain": [
              "<matplotlib.legend.Legend at 0x7f5034390da0>"
            ]
          },
          "metadata": {
            "tags": []
          },
          "execution_count": 423
        },
        {
          "output_type": "display_data",
          "data": {
            "image/png": "[encoded data removed]",
            "text/plain": [
              "<Figure size 432x288 with 1 Axes>"
            ]
          },
          "metadata": {
            "tags": []
          }
        }
      ]
    },
    {
      "cell_type": "code",
      "metadata": {
        "id": "ZHqAZ2j1OTwZ",
        "colab_type": "code",
        "outputId": "157e8c91-59b4-47d1-87ee-4f725b2cec58",
        "colab": {
          "base_uri": "https://localhost:8080/",
          "height": 34
        }
      },
      "source": [
        "from sklearn.metrics import mean_absolute_error\n",
        "MAE = mean_absolute_error(a[:, 0], ytesting[:])\n",
        "print('MAE:', MAE)"
      ],
      "execution_count": 0,
      "outputs": [
        {
          "output_type": "stream",
          "text": [
            "MAE: 38.673187\n"
          ],
          "name": "stdout"
        }
      ]
    },
    {
      "cell_type": "code",
      "metadata": {
        "id": "HgqrV6ZxOuie",
        "colab_type": "code",
        "outputId": "85dd23b2-17a7-4444-f013-f2abd81200da",
        "colab": {
          "base_uri": "https://localhost:8080/",
          "height": 34
        }
      },
      "source": [
        "from sklearn.metrics import mean_squared_error\n",
        "from math import sqrt\n",
        "rms = sqrt(mean_squared_error(a, ytesting))\n",
        "print('RMS:',rms)"
      ],
      "execution_count": 0,
      "outputs": [
        {
          "output_type": "stream",
          "text": [
            "RMS: 44.744593117842186\n"
          ],
          "name": "stdout"
        }
      ]
    }
  ]
}